{
 "cells": [
  {
   "cell_type": "code",
   "execution_count": null,
   "metadata": {},
   "outputs": [],
   "source": [
    "from dndsim import (\n",
    "    QuarterModel,\n",
    "    FactionAgent,\n",
    "    District,\n",
    "    PreferenceDistrictPicker,\n",
    "    Resources,\n",
    ")"
   ]
  },
  {
   "cell_type": "code",
   "execution_count": null,
   "metadata": {},
   "outputs": [],
   "source": [
    "wants_wheat = PreferenceDistrictPicker([\n",
    "    lambda district: 2 if \"wheat\" in district else 0,\n",
    "])\n",
    "\n",
    "wheat_faction = FactionAgent(\n",
    "    name=\"The Wheat Faction\",\n",
    "    uid=0x0000,\n",
    "    resources=Resources(money=1, clergy=1),\n",
    "    behaviour=wants_wheat,\n",
    ")\n",
    "\n",
    "wheat_district = District(\n",
    "    name=\"The Wheat District\",\n",
    "    poi=[\"wheat\"],\n",
    "    resources=Resources.ones(),\n",
    ")"
   ]
  },
  {
   "cell_type": "code",
   "execution_count": null,
   "metadata": {},
   "outputs": [],
   "source": [
    "model = QuarterModel(\n",
    "    factions=[wheat_faction],\n",
    "    districts=[wheat_district]\n",
    ")"
   ]
  },
  {
   "cell_type": "code",
   "execution_count": null,
   "metadata": {},
   "outputs": [],
   "source": [
    "f = model.factions[0]\n",
    "f.name, f.resources"
   ]
  },
  {
   "cell_type": "code",
   "execution_count": null,
   "metadata": {},
   "outputs": [],
   "source": [
    "f = model.step().factions[0]\n",
    "f.name, f.resources"
   ]
  },
  {
   "cell_type": "code",
   "execution_count": null,
   "metadata": {},
   "outputs": [],
   "source": [
    "f = model.step().step().factions[0]\n",
    "f.name, f.resources"
   ]
  }
 ],
 "metadata": {
  "kernelspec": {
   "display_name": "dndsim",
   "language": "python",
   "name": "dndsim"
  },
  "language_info": {
   "codemirror_mode": {
    "name": "ipython",
    "version": 3
   },
   "file_extension": ".py",
   "mimetype": "text/x-python",
   "name": "python",
   "nbconvert_exporter": "python",
   "pygments_lexer": "ipython3",
   "version": "3.8.5"
  }
 },
 "nbformat": 4,
 "nbformat_minor": 4
}
